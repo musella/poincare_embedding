{
 "cells": [
  {
   "cell_type": "markdown",
   "metadata": {},
   "source": [
    "# Train Poincare' embedding of the Amazon purchase network\n",
    "\n",
    "Full details on the model can be found on [arXiv:1705.08039](https://arxiv.org/abs/1705.08039)\n",
    "\n",
    "Use the implementation in the [gensim](https://radimrehurek.com/gensim/) package.\n",
    "\n"
   ]
  },
  {
   "cell_type": "code",
   "execution_count": 1,
   "metadata": {},
   "outputs": [],
   "source": [
    "import os\n",
    "import logging\n",
    "import numpy as np\n",
    "\n",
    "from gensim.models.poincare import PoincareModel, PoincareKeyedVectors, PoincareRelations\n",
    "from gensim.test.utils import datapath\n",
    "\n",
    "logging.basicConfig(level=logging.INFO)"
   ]
  },
  {
   "cell_type": "markdown",
   "metadata": {},
   "source": [
    "## Load all relations and train model"
   ]
  },
  {
   "cell_type": "code",
   "execution_count": 3,
   "metadata": {},
   "outputs": [
    {
     "name": "stderr",
     "output_type": "stream",
     "text": [
      "INFO:gensim.models.poincare:Loading relations from train data..\n",
      "INFO:gensim.models.poincare:Loaded 925872 relations from train data, 334863 nodes\n"
     ]
    }
   ],
   "source": [
    "file_path = '../input/amazon_purchases/com-amazon.links.tsv'\n",
    "\n",
    "relations = PoincareRelations(file_path=file_path, delimiter='\\t')\n",
    "model = PoincareModel(train_data=relations)"
   ]
  },
  {
   "cell_type": "code",
   "execution_count": 4,
   "metadata": {},
   "outputs": [
    {
     "name": "stderr",
     "output_type": "stream",
     "text": [
      "INFO:gensim.models.poincare:Loading relations from train data..\n",
      "INFO:gensim.models.poincare:Loaded 925872 relations from train data, 334863 nodes\n",
      "INFO:gensim.models.poincare:training model of size 2 with 1 workers on 925872 relations for 10 epochs and 10 burn-in epochs, using lr=0.10000 burn-in lr=0.01000 negative=10\n",
      "INFO:gensim.models.poincare:Starting burn-in (10 epochs)----------------------------------------\n",
      "INFO:gensim.models.poincare:Training on epoch 1, examples #499990-#500000, loss: 23.96\n",
      "INFO:gensim.models.poincare:Time taken for 500000 examples: 31.52 s, 15860.96 examples / s\n",
      "INFO:gensim.models.poincare:Training on epoch 2, examples #499990-#500000, loss: 23.80\n",
      "INFO:gensim.models.poincare:Time taken for 500000 examples: 33.44 s, 14951.51 examples / s\n",
      "INFO:gensim.models.poincare:Training on epoch 3, examples #499990-#500000, loss: 23.53\n",
      "INFO:gensim.models.poincare:Time taken for 500000 examples: 34.36 s, 14553.68 examples / s\n",
      "INFO:gensim.models.poincare:Training on epoch 4, examples #499990-#500000, loss: 23.25\n",
      "INFO:gensim.models.poincare:Time taken for 500000 examples: 32.47 s, 15400.50 examples / s\n",
      "INFO:gensim.models.poincare:Training on epoch 5, examples #499990-#500000, loss: 22.97\n",
      "INFO:gensim.models.poincare:Time taken for 500000 examples: 31.82 s, 15711.83 examples / s\n",
      "INFO:gensim.models.poincare:Training on epoch 6, examples #499990-#500000, loss: 22.69\n",
      "INFO:gensim.models.poincare:Time taken for 500000 examples: 35.59 s, 14048.23 examples / s\n",
      "INFO:gensim.models.poincare:Training on epoch 7, examples #499990-#500000, loss: 22.42\n",
      "INFO:gensim.models.poincare:Time taken for 500000 examples: 32.83 s, 15229.90 examples / s\n",
      "INFO:gensim.models.poincare:Training on epoch 8, examples #499990-#500000, loss: 22.16\n",
      "INFO:gensim.models.poincare:Time taken for 500000 examples: 34.31 s, 14572.29 examples / s\n",
      "INFO:gensim.models.poincare:Training on epoch 9, examples #499990-#500000, loss: 21.91\n",
      "INFO:gensim.models.poincare:Time taken for 500000 examples: 34.81 s, 14364.75 examples / s\n",
      "INFO:gensim.models.poincare:Training on epoch 10, examples #499990-#500000, loss: 21.67\n",
      "INFO:gensim.models.poincare:Time taken for 500000 examples: 42.38 s, 11797.06 examples / s\n",
      "INFO:gensim.models.poincare:Burn-in finished\n",
      "INFO:gensim.models.poincare:Starting training (10 epochs)----------------------------------------\n",
      "INFO:gensim.models.poincare:Training on epoch 1, examples #499990-#500000, loss: 21.33\n",
      "INFO:gensim.models.poincare:Time taken for 500000 examples: 35.66 s, 14020.80 examples / s\n",
      "INFO:gensim.models.poincare:Training on epoch 2, examples #499990-#500000, loss: 19.55\n",
      "INFO:gensim.models.poincare:Time taken for 500000 examples: 35.87 s, 13938.37 examples / s\n",
      "INFO:gensim.models.poincare:Training on epoch 3, examples #499990-#500000, loss: 18.04\n",
      "INFO:gensim.models.poincare:Time taken for 500000 examples: 35.66 s, 14019.73 examples / s\n",
      "INFO:gensim.models.poincare:Training on epoch 4, examples #499990-#500000, loss: 16.81\n",
      "INFO:gensim.models.poincare:Time taken for 500000 examples: 34.29 s, 14582.86 examples / s\n",
      "INFO:gensim.models.poincare:Training on epoch 5, examples #499990-#500000, loss: 15.78\n",
      "INFO:gensim.models.poincare:Time taken for 500000 examples: 34.64 s, 14433.33 examples / s\n",
      "INFO:gensim.models.poincare:Training on epoch 6, examples #499990-#500000, loss: 14.90\n",
      "INFO:gensim.models.poincare:Time taken for 500000 examples: 37.72 s, 13256.57 examples / s\n",
      "INFO:gensim.models.poincare:Training on epoch 7, examples #499990-#500000, loss: 14.13\n",
      "INFO:gensim.models.poincare:Time taken for 500000 examples: 38.84 s, 12873.79 examples / s\n",
      "INFO:gensim.models.poincare:Training on epoch 8, examples #499990-#500000, loss: 13.47\n",
      "INFO:gensim.models.poincare:Time taken for 500000 examples: 36.80 s, 13587.33 examples / s\n",
      "INFO:gensim.models.poincare:Training on epoch 9, examples #499990-#500000, loss: 12.88\n",
      "INFO:gensim.models.poincare:Time taken for 500000 examples: 36.36 s, 13752.79 examples / s\n",
      "INFO:gensim.models.poincare:Training on epoch 10, examples #499990-#500000, loss: 12.36\n",
      "INFO:gensim.models.poincare:Time taken for 500000 examples: 36.95 s, 13531.94 examples / s\n",
      "INFO:gensim.models.poincare:Training finished\n"
     ]
    }
   ],
   "source": [
    "model = PoincareModel(train_data=relations, size=2, burn_in=10) # train a bidimensional embedding with 10 burn-in epochs\n",
    "model.train(epochs=10, print_every=50000)"
   ]
  },
  {
   "cell_type": "code",
   "execution_count": 7,
   "metadata": {},
   "outputs": [
    {
     "name": "stderr",
     "output_type": "stream",
     "text": [
      "INFO:gensim.utils:saving PoincareModel object under amazon_purchases_embedding.pkl, separately None\n",
      "INFO:gensim.utils:saved amazon_purchases_embedding.pkl\n"
     ]
    }
   ],
   "source": [
    "model.save(\"amazon_purchases_embedding.pkl\")"
   ]
  },
  {
   "cell_type": "code",
   "execution_count": null,
   "metadata": {},
   "outputs": [],
   "source": []
  },
  {
   "cell_type": "code",
   "execution_count": null,
   "metadata": {},
   "outputs": [],
   "source": []
  },
  {
   "cell_type": "code",
   "execution_count": null,
   "metadata": {},
   "outputs": [],
   "source": []
  }
 ],
 "metadata": {
  "kernelspec": {
   "display_name": "Python 3",
   "language": "python",
   "name": "python3"
  },
  "language_info": {
   "codemirror_mode": {
    "name": "ipython",
    "version": 3
   },
   "file_extension": ".py",
   "mimetype": "text/x-python",
   "name": "python",
   "nbconvert_exporter": "python",
   "pygments_lexer": "ipython3",
   "version": "3.6.4"
  }
 },
 "nbformat": 4,
 "nbformat_minor": 2
}
