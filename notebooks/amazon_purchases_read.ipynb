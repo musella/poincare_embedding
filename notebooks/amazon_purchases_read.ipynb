{
 "cells": [
  {
   "cell_type": "markdown",
   "metadata": {},
   "source": [
    "# Read Amazon purchases network and write out edges and nodes\n",
    "\n",
    "The data can be downloaded from [here](https://snap.stanford.edu/data/com-Amazon.html)"
   ]
  },
  {
   "cell_type": "code",
   "execution_count": 23,
   "metadata": {},
   "outputs": [],
   "source": [
    "from gzip import open as gopen\n",
    "\n",
    "import pandas as pd\n",
    "from pprint import pprint"
   ]
  },
  {
   "cell_type": "code",
   "execution_count": 52,
   "metadata": {},
   "outputs": [],
   "source": [
    "input_file = \"../input/amazon_purchases/com-amazon.ungraph.txt.gz\"\n",
    "\n",
    "! [ ! -f $input_file ] && wget https://snap.stanford.edu/data/bigdata/communities/com-amazon.ungraph.txt.gz -O $input_file"
   ]
  },
  {
   "cell_type": "code",
   "execution_count": 45,
   "metadata": {},
   "outputs": [
    {
     "name": "stdout",
     "output_type": "stream",
     "text": [
      "# Undirected graph: ../../data/output/amazon.ungraph.txt\n",
      "# Amazon\n",
      "# Nodes: 334863 Edges: 925872\n",
      "# FromNodeId\tToNodeId\n",
      "1\t88160\n",
      "1\t118052\n",
      "1\t161555\n",
      "1\t244916\n",
      "1\t346495\n",
      "1\t444232\n",
      "1\t447165\n"
     ]
    }
   ],
   "source": [
    "edges = []\n",
    "nodes = set()\n",
    "with gopen(input_file,mode='rb') as gin:\n",
    "    for iline,line in enumerate(gin.readlines()):\n",
    "        line = line.decode('ascii')\n",
    "        if line[0].isnumeric():\n",
    "            toks = line.split(\"\\t\")\n",
    "            src = int(toks[0])\n",
    "            nodes.add(src)\n",
    "            for tok in toks[1:]:\n",
    "                dst = int(tok)\n",
    "                nodes.add(dst)\n",
    "                edges.append( (src,dst) )\n",
    "        if iline<=10:print(line.rstrip(\"\\n\"))"
   ]
  },
  {
   "cell_type": "code",
   "execution_count": 43,
   "metadata": {},
   "outputs": [
    {
     "name": "stdout",
     "output_type": "stream",
     "text": [
      "Read 334863 nodes and 925872 edges\n"
     ]
    }
   ],
   "source": [
    "print(\"Read {} nodes and {} edges\".format( len(nodes), len(edges)) )"
   ]
  },
  {
   "cell_type": "code",
   "execution_count": 50,
   "metadata": {},
   "outputs": [],
   "source": [
    "with open(\"../input/amazon_purchases/com-amazon.links.tsv\",\"w\") as fout:\n",
    "    for src,dst in edges:\n",
    "        fout.write(\"{}\\t{}\\n\".format(src,dst))\n",
    "    fout.close()\n",
    "    \n",
    "with open(\"../input/amazon_purchases/com-amazon.nodes.txt\",\"w\") as fout:\n",
    "    for node in nodes:\n",
    "        fout.write(\"{}\\n\".format(node))\n",
    "    fout.close()"
   ]
  },
  {
   "cell_type": "code",
   "execution_count": null,
   "metadata": {},
   "outputs": [],
   "source": []
  },
  {
   "cell_type": "code",
   "execution_count": null,
   "metadata": {},
   "outputs": [],
   "source": []
  }
 ],
 "metadata": {
  "kernelspec": {
   "display_name": "Python 3",
   "language": "python",
   "name": "python3"
  },
  "language_info": {
   "codemirror_mode": {
    "name": "ipython",
    "version": 3
   },
   "file_extension": ".py",
   "mimetype": "text/x-python",
   "name": "python",
   "nbconvert_exporter": "python",
   "pygments_lexer": "ipython3",
   "version": "3.6.4"
  }
 },
 "nbformat": 4,
 "nbformat_minor": 2
}
